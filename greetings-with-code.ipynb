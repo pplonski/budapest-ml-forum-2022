{
 "cells": [
  {
   "cell_type": "raw",
   "metadata": {},
   "source": [
    "---\n",
    "title: Demo app with code\n",
    "description: Simple greetings app\n",
    "show-code: True\n",
    "params:\n",
    "    name:\n",
    "        input: text\n",
    "        value: Piotr\n",
    "        label: Please provide your name\n",
    "    year:\n",
    "        input: slider\n",
    "        value: 2022\n",
    "        label: Please provide the year\n",
    "        min: 2020\n",
    "        max: 2030\n",
    "---"
   ]
  },
  {
   "cell_type": "markdown",
   "metadata": {},
   "source": [
    "```\n",
    "---\n",
    "title: Demo app with code\n",
    "description: Simple greetings app\n",
    "show-code: True\n",
    "params:\n",
    "    name:\n",
    "        input: text\n",
    "        value: Piotr\n",
    "        label: Please provide your name\n",
    "    year:\n",
    "        input: slider\n",
    "        value: 2022\n",
    "        label: Please provide the year\n",
    "        min: 2020\n",
    "        max: 2030\n",
    "---\n",
    "```"
   ]
  },
  {
   "cell_type": "code",
   "execution_count": 1,
   "metadata": {},
   "outputs": [],
   "source": [
    "name = \"Piotr\"\n",
    "year = 2022"
   ]
  },
  {
   "cell_type": "code",
   "execution_count": 2,
   "metadata": {},
   "outputs": [
    {
     "name": "stdout",
     "output_type": "stream",
     "text": [
      "Hello Piotr in 2022!\n"
     ]
    }
   ],
   "source": [
    "print(f\"Hello {name} in {year}!\")"
   ]
  }
 ],
 "metadata": {
  "kernelspec": {
   "display_name": "forumenv",
   "language": "python",
   "name": "forumenv"
  },
  "language_info": {
   "codemirror_mode": {
    "name": "ipython",
    "version": 3
   },
   "file_extension": ".py",
   "mimetype": "text/x-python",
   "name": "python",
   "nbconvert_exporter": "python",
   "pygments_lexer": "ipython3",
   "version": "3.8.0"
  }
 },
 "nbformat": 4,
 "nbformat_minor": 2
}
