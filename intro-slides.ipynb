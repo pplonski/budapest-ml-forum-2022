{
 "cells": [
  {
   "cell_type": "raw",
   "metadata": {
    "slideshow": {
     "slide_type": "skip"
    }
   },
   "source": [
    "---\n",
    "title: Intro\n",
    "description: Share Python Notebooks as interactive web apps with Mercury\n",
    "output: slides\n",
    "show-code: False\n",
    "format:\n",
    "    theme: simple\n",
    "---"
   ]
  },
  {
   "cell_type": "markdown",
   "metadata": {
    "slideshow": {
     "slide_type": "slide"
    }
   },
   "source": [
    "<center>\n",
    "<h1>Share Python Notebooks as interactive web apps </h1>\n",
    "<br />\n",
    "<h2>Piotr Płoński</h2>\n",
    "<br />\n",
    "<h3>Budapest ML Forum</h3>\n",
    "<h3>May 4, 2022</h3>\n",
    "</center>"
   ]
  },
  {
   "cell_type": "markdown",
   "metadata": {
    "slideshow": {
     "slide_type": "slide"
    }
   },
   "source": [
    "## Who am I?\n",
    "\n",
    "- I'm running a company [MLJAR](https://mljar.com) that is working on Data Science tools (since 2016)\n",
    "- Industry experience as software engineer and data scientists (Netezza, IBM, iQor, DirectTV, HP, Samsung, ...)  \n",
    "- Academic experience as researcher (High-Energy Physics, Medicine, Informatics)\n",
    "\n",
    "## Tools\n",
    "- MLJAR [AutoML](https://github.com/mljar/mljar-supervised) open-source Python package for automatic ML pipeline construction\n",
    "- [Mercury](https://github.com/mljar/mercury) open-source package for converting Python Notebooks to web apps\n",
    "- [Bloxs](https://github.com/mljar/bloxs) open-source package to display information in notebook in attractive way"
   ]
  },
  {
   "cell_type": "markdown",
   "metadata": {
    "slideshow": {
     "slide_type": "slide"
    }
   },
   "source": [
    "# Mercury\n",
    "\n",
    "## Converts Python Notebook to\n",
    "\n",
    "- web application (app / report / dashboard)\n",
    "- slides\n",
    "- REAST API (coming soon)"
   ]
  },
  {
   "cell_type": "markdown",
   "metadata": {
    "slideshow": {
     "slide_type": "slide"
    }
   },
   "source": [
    "# Python Notebook\n",
    "\n",
    "- Great for experimenting with data\n",
    "- Rich output for code snippet execution"
   ]
  },
  {
   "cell_type": "markdown",
   "metadata": {
    "slideshow": {
     "slide_type": "slide"
    }
   },
   "source": [
    "# How to share the notebook?\n",
    "\n",
    "- it is hard to create the analysis in general\n",
    "- the final results needs to be shared to be meaningful\n",
    "- if you cant share your results with others they are useless\n"
   ]
  },
  {
   "cell_type": "markdown",
   "metadata": {
    "slideshow": {
     "slide_type": "subslide"
    }
   },
   "source": [
    "# Share notebook source file\n",
    "\n",
    "- users need to know Python\n",
    "- have the same environment (python version + packages + hardware)\n",
    "- have access to the same data \n",
    "\n",
    "\n",
    "It is hard!\n"
   ]
  },
  {
   "cell_type": "markdown",
   "metadata": {
    "slideshow": {
     "slide_type": "subslide"
    }
   },
   "source": [
    "# Create a presentation\n",
    "\n",
    "- easy to share, easy to open\n",
    "- classic presentations are static - can't change values in the presentation\n"
   ]
  },
  {
   "cell_type": "markdown",
   "metadata": {
    "slideshow": {
     "slide_type": "subslide"
    }
   },
   "source": [
    "# Rewrite to web framework\n",
    "\n",
    "- create a web app from the notebook's code (findings)\n",
    "- a lot of work to rewrite the notebook\n",
    "- need to know some of web development (HTML/CSS/JS)\n",
    "\n",
    "## Easy-to-use web frameworks\n",
    "\n",
    "- voila+ipywidgets, streamlit, dash\n",
    "- need to write the UI code\n",
    "- you mix the analytics code with UI code\n",
    "\n"
   ]
  },
  {
   "cell_type": "markdown",
   "metadata": {
    "slideshow": {
     "slide_type": "slide"
    }
   },
   "source": [
    "# Mercury\n",
    "\n",
    "- converts notebook to web app\n",
    "- add widgets to the notebook based on YAML configuration\n",
    "- user can tweak widgets parameters and execute the notebook (from the top to the bottom)"
   ]
  },
  {
   "cell_type": "markdown",
   "metadata": {
    "slideshow": {
     "slide_type": "slide"
    }
   },
   "source": [
    "# The YAML config\n",
    "\n",
    "- add YAML in the first **RAW** cell in the notebook\n",
    "- define widgets with the same name as variables in the code\n",
    "- keep variables that will be updated in the UI in one cell\n",
    "\n",
    "\n",
    "#### Example YAML\n",
    "\n",
    "```\n",
    "---\n",
    "title: My app\n",
    "description: What is the app doing?\n",
    "show-code: False\n",
    "params:\n",
    "    my_variable:\n",
    "        input: text\n",
    "        label: Please provide text\n",
    "        value: Some default value\n",
    "```"
   ]
  },
  {
   "cell_type": "markdown",
   "metadata": {
    "slideshow": {
     "slide_type": "subslide"
    }
   },
   "source": [
    "# Architecture (user add notebook)\n",
    "\n",
    "- `nbconvert` is used to convert notebook to HTML\n",
    "- YAML params are saved in the database\n"
   ]
  },
  {
   "cell_type": "markdown",
   "metadata": {
    "slideshow": {
     "slide_type": "subslide"
    }
   },
   "source": [
    "# Architecture (user open notebook)\n",
    "\n",
    "- the YAML is used to construct the sidebar with widgets\n",
    "- user tweak widgets values\n",
    "- on `Run` click the values are packed into JSON request and send to the server\n",
    "- server starts a background task\n",
    "- the values from request are unpacked and injected into the notebook\n",
    "- notebook is executed and saved as HTML / slides with `nbconvert`"
   ]
  },
  {
   "cell_type": "code",
   "execution_count": null,
   "metadata": {
    "slideshow": {
     "slide_type": "slide"
    }
   },
   "outputs": [],
   "source": [
    "# Mercury features"
   ]
  },
  {
   "cell_type": "markdown",
   "metadata": {
    "slideshow": {
     "slide_type": "subslide"
    }
   },
   "source": [
    "# Built-in app gallery\n",
    "\n",
    "![]()\n",
    "\n"
   ]
  },
  {
   "cell_type": "markdown",
   "metadata": {
    "slideshow": {
     "slide_type": "subslide"
    }
   },
   "source": [
    "## Great for experiments"
   ]
  },
  {
   "cell_type": "markdown",
   "metadata": {
    "slideshow": {
     "slide_type": "slide"
    }
   },
   "source": [
    "<iframe src=\"https://mercury.mljar.com/app/5/embed\" height=\"700px\" width=\"1400px\"></iframe>"
   ]
  },
  {
   "cell_type": "code",
   "execution_count": null,
   "metadata": {},
   "outputs": [],
   "source": []
  }
 ],
 "metadata": {
  "celltoolbar": "Slideshow",
  "kernelspec": {
   "display_name": "forumenv",
   "language": "python",
   "name": "forumenv"
  },
  "language_info": {
   "codemirror_mode": {
    "name": "ipython",
    "version": 3
   },
   "file_extension": ".py",
   "mimetype": "text/x-python",
   "name": "python",
   "nbconvert_exporter": "python",
   "pygments_lexer": "ipython3",
   "version": "3.8.0"
  }
 },
 "nbformat": 4,
 "nbformat_minor": 2
}
