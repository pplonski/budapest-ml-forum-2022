{
 "cells": [
  {
   "cell_type": "raw",
   "metadata": {
    "slideshow": {
     "slide_type": "skip"
    }
   },
   "source": [
    "---\n",
    "title: Intro Slides\n",
    "description: Share Python Notebooks as interactive web apps with Mercury\n",
    "output: slides\n",
    "show-code: False\n",
    "format:\n",
    "    theme: simple\n",
    "---"
   ]
  },
  {
   "cell_type": "markdown",
   "metadata": {
    "slideshow": {
     "slide_type": "slide"
    }
   },
   "source": [
    "<center>\n",
    "<h1>Share Python Notebooks as interactive web apps </h1>\n",
    "<br />\n",
    "<h2>Piotr Płoński</h2>\n",
    "<br />\n",
    "<h3>Budapest ML Forum</h3>\n",
    "<h3>May 4, 2022</h3>\n",
    "</center>"
   ]
  },
  {
   "cell_type": "markdown",
   "metadata": {
    "slideshow": {
     "slide_type": "slide"
    }
   },
   "source": [
    "# My Data Science Experience"
   ]
  },
  {
   "cell_type": "markdown",
   "metadata": {
    "slideshow": {
     "slide_type": "subslide"
    }
   },
   "source": [
    "## Academic experience \n",
    "\n",
    "![](https://github.com/pplonski/budapest-ml-forum-2022/raw/main/media/academic-experience.png)\n"
   ]
  },
  {
   "cell_type": "markdown",
   "metadata": {
    "slideshow": {
     "slide_type": "subslide"
    }
   },
   "source": [
    "## Industry experience\n",
    "\n",
    "(Netezza, IBM, iQor, DirectTV, HP, Samsung, Bell Canada, ...)  \n",
    "\n",
    "![](https://github.com/pplonski/budapest-ml-forum-2022/raw/main/media/industry-experience.png)"
   ]
  },
  {
   "cell_type": "markdown",
   "metadata": {
    "slideshow": {
     "slide_type": "slide"
    }
   },
   "source": [
    "# How to have job done and not work too hard?\n",
    "\n",
    "![](https://github.com/pplonski/budapest-ml-forum-2022/raw/main/media/lazy-job-done.png)"
   ]
  },
  {
   "cell_type": "markdown",
   "metadata": {
    "slideshow": {
     "slide_type": "subslide"
    }
   },
   "source": [
    "# MLJAR  - Data Science Tools\n",
    "\n",
    "I'm running a company [MLJAR](https://mljar.com) that is working on Data Science tools (since 2016)\n",
    "\n",
    "<center>\n",
    "<img \n",
    "    src=\"https://github.com/mljar/visual-identity/raw/main/logo/logo_blue.png\" \n",
    "    alt=\"MLJAR logo\"\n",
    "    width=\"300px\" />\n",
    "</center>"
   ]
  },
  {
   "cell_type": "markdown",
   "metadata": {
    "slideshow": {
     "slide_type": "subslide"
    }
   },
   "source": [
    "## MLJAR AutoML\n",
    "\n",
    "Open-source Python package that works with tabular data\n",
    "\n",
    "![](https://raw.githubusercontent.com/mljar/visual-identity/main/media/infograph.png)\n"
   ]
  },
  {
   "cell_type": "markdown",
   "metadata": {
    "slideshow": {
     "slide_type": "subslide"
    }
   },
   "source": [
    "## Bloxs\n",
    "\n",
    "Open-source Python package to display data in notebooks as blocks\n",
    "\n",
    "![](https://github.com/mljar/bloxs/raw/main/docs/media/several_bloxs_2.png)\n",
    "![](https://github.com/mljar/bloxs/raw/main/docs/media/several_bloxs.png)\n"
   ]
  },
  {
   "cell_type": "markdown",
   "metadata": {
    "slideshow": {
     "slide_type": "subslide"
    }
   },
   "source": [
    "## Mercury\n",
    "\n",
    "Open-source framework to Convert Python Notebook to web apps\n",
    "\n",
    "![](https://raw.githubusercontent.com/mljar/visual-identity/main/mercury/mercury_convert_notebook_2.png)"
   ]
  },
  {
   "cell_type": "markdown",
   "metadata": {
    "slideshow": {
     "slide_type": "slide"
    }
   },
   "source": [
    "# Python Notebook\n",
    "\n",
    "- Great for experimenting with data\n",
    "- Rich output for code snippet execution\n",
    "\n",
    "![](https://github.com/pplonski/budapest-ml-forum-2022/raw/main/media/notebook-outputs.png)"
   ]
  },
  {
   "cell_type": "markdown",
   "metadata": {
    "slideshow": {
     "slide_type": "slide"
    }
   },
   "source": [
    "## Analysis ready, time to share results\n",
    "\n",
    "![](https://github.com/pplonski/budapest-ml-forum-2022/raw/main/media/analysis-ready.jpg)"
   ]
  },
  {
   "cell_type": "markdown",
   "metadata": {
    "slideshow": {
     "slide_type": "slide"
    }
   },
   "source": [
    "# How to share the notebook?\n",
    "\n",
    "The final results needs to be shared to be meaningful. \n",
    "\n",
    "If you cant share your results with others they are useless\n"
   ]
  },
  {
   "cell_type": "markdown",
   "metadata": {
    "slideshow": {
     "slide_type": "subslide"
    }
   },
   "source": [
    "# Share notebook source file\n",
    "\n",
    "- users need to know Python\n",
    "- have the same environment (python version + packages + hardware)\n",
    "- have access to the same data \n",
    "\n",
    "![](https://github.com/pplonski/budapest-ml-forum-2022/raw/main/media/share-notebook-photo.png)"
   ]
  },
  {
   "cell_type": "markdown",
   "metadata": {
    "slideshow": {
     "slide_type": "subslide"
    }
   },
   "source": [
    "# Create a presentation\n",
    "\n",
    "- easy to share, easy to open\n",
    "- classic presentations are static - can't change values in the presentation\n",
    "- can't write code in PPT \n",
    "\n",
    "![](https://github.com/pplonski/budapest-ml-forum-2022/raw/main/media/presentation-photo.png)"
   ]
  },
  {
   "cell_type": "markdown",
   "metadata": {
    "slideshow": {
     "slide_type": "subslide"
    }
   },
   "source": [
    "# Rewrite to web framework\n",
    "\n",
    "- create a web app from the notebook's code (findings)\n",
    "- a lot of work to rewrite the notebook\n",
    "- need to know some of web development (HTML/CSS/JS)\n",
    "\n",
    "## Easy-to-use web frameworks\n",
    "\n",
    "- voila+ipywidgets, streamlit, dash\n",
    "- need to write the UI code\n",
    "- you mix the analytics code with UI code\n",
    "\n"
   ]
  },
  {
   "cell_type": "markdown",
   "metadata": {
    "slideshow": {
     "slide_type": "slide"
    }
   },
   "source": [
    "# Mercury\n",
    "\n",
    "- converts notebook to web app\n",
    "- add widgets to the notebook based on YAML configuration\n",
    "- user can tweak widgets parameters and execute the notebook (from the top to the bottom)\n",
    "\n",
    "<center>\n",
    "<img \n",
    "    src=\"https://raw.githubusercontent.com/mljar/visual-identity/main/mercury/mercury_logo_white_red.png\" \n",
    "    alt=\"MLJAR logo\"\n",
    "    width=\"300px\" />\n",
    "</center>\n",
    "\n"
   ]
  },
  {
   "cell_type": "markdown",
   "metadata": {
    "slideshow": {
     "slide_type": "slide"
    }
   },
   "source": [
    "# The YAML config\n",
    "\n",
    "- add YAML in the first **RAW** cell in the notebook\n",
    "- define widgets with the same name as variables in the code\n",
    "- keep variables that will be updated in the UI in one cell\n",
    "\n",
    "\n",
    "#### Example YAML\n",
    "\n",
    "```\n",
    "---\n",
    "title: My app\n",
    "description: What is the app doing?\n",
    "show-code: False\n",
    "params:\n",
    "    my_variable:\n",
    "        input: text\n",
    "        label: Please provide text\n",
    "        value: Some default value\n",
    "```"
   ]
  },
  {
   "cell_type": "markdown",
   "metadata": {
    "slideshow": {
     "slide_type": "subslide"
    }
   },
   "source": [
    "# Architecture (user add notebook)\n",
    "\n",
    "- `nbconvert` is used to convert notebook to HTML\n",
    "- YAML params are saved in the database\n"
   ]
  },
  {
   "cell_type": "markdown",
   "metadata": {
    "slideshow": {
     "slide_type": "subslide"
    }
   },
   "source": [
    "# Architecture (user open notebook)\n",
    "\n",
    "- the YAML is used to construct the sidebar with widgets\n",
    "- user tweak widgets values\n",
    "- on `Run` click the values are packed into JSON request and send to the server\n",
    "- server starts a background task\n",
    "- the values from request are unpacked and injected into the notebook\n",
    "- notebook is executed and saved as HTML / slides with `nbconvert`"
   ]
  },
  {
   "cell_type": "markdown",
   "metadata": {
    "slideshow": {
     "slide_type": "slide"
    }
   },
   "source": [
    "# Mercury features"
   ]
  },
  {
   "cell_type": "markdown",
   "metadata": {
    "slideshow": {
     "slide_type": "subslide"
    }
   },
   "source": [
    "## Built-in app gallery\n",
    "\n",
    "![](https://github.com/pplonski/budapest-ml-forum-2022/raw/main/media/mercury_share_multiple_notebooks.png)"
   ]
  },
  {
   "cell_type": "markdown",
   "metadata": {
    "slideshow": {
     "slide_type": "subslide"
    }
   },
   "source": [
    "## Download executed notebook\n",
    "\n",
    "![](https://github.com/pplonski/budapest-ml-forum-2022/raw/main/media/download_executed_notebook.gif)"
   ]
  },
  {
   "cell_type": "markdown",
   "metadata": {
    "slideshow": {
     "slide_type": "subslide"
    }
   },
   "source": [
    "## Authentication\n",
    "\n",
    "![](https://github.com/pplonski/budapest-ml-forum-2022/raw/main/media/mercury_add_authentication_to_notebook.gif)"
   ]
  },
  {
   "cell_type": "markdown",
   "metadata": {
    "slideshow": {
     "slide_type": "subslide"
    }
   },
   "source": [
    "## Authentication\n",
    "\n",
    "\n",
    "#### Share with authenticated users 🔒\n",
    "\n",
    "```\n",
    "title: Secret app \n",
    "description: My app with secret \n",
    "share: private\n",
    "params:\n",
    "    # widgets code ...\n",
    "```    \n",
    "\n",
    "#### Share with selected users 👧👦\n",
    "\n",
    "```\n",
    "title: Secret app \n",
    "description: My app with secret \n",
    "share: alice, bob\n",
    "params:\n",
    "    # widgets code ...\n",
    "```"
   ]
  },
  {
   "cell_type": "markdown",
   "metadata": {
    "slideshow": {
     "slide_type": "subslide"
    }
   },
   "source": [
    "#### Easily embed (even here!)\n",
    "\n",
    "```\n",
    "<iframe src=\"https://mercury.mljar.com/app/5/embed\" height=\"700px\" width=\"1600px\"></iframe>\n",
    "```\n",
    "\n",
    "<iframe src=\"https://mercury.mljar.com/app/5/embed\" height=\"700px\" width=\"1600px\"></iframe>"
   ]
  },
  {
   "cell_type": "markdown",
   "metadata": {
    "slideshow": {
     "slide_type": "slide"
    }
   },
   "source": [
    "# Demo time!"
   ]
  }
 ],
 "metadata": {
  "celltoolbar": "Slideshow",
  "kernelspec": {
   "display_name": "forumenv",
   "language": "python",
   "name": "forumenv"
  },
  "language_info": {
   "codemirror_mode": {
    "name": "ipython",
    "version": 3
   },
   "file_extension": ".py",
   "mimetype": "text/x-python",
   "name": "python",
   "nbconvert_exporter": "python",
   "pygments_lexer": "ipython3",
   "version": "3.8.0"
  }
 },
 "nbformat": 4,
 "nbformat_minor": 2
}
