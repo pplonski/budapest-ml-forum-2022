{
 "cells": [
  {
   "cell_type": "raw",
   "metadata": {
    "slideshow": {
     "slide_type": "skip"
    }
   },
   "source": [
    "---\n",
    "title: Final Slides\n",
    "description: Final slides for presentation\n",
    "output: slides\n",
    "show-code: False\n",
    "format:\n",
    "    theme: white\n",
    "---"
   ]
  },
  {
   "cell_type": "markdown",
   "metadata": {
    "slideshow": {
     "slide_type": "slide"
    }
   },
   "source": [
    "# Future development\n",
    "\n",
    "1. Notebooks scheduling\n",
    "2. Notebooks as REST API\n",
    "3. Exporting Notebooks apps as HTML+`py-script` standalone apps"
   ]
  },
  {
   "cell_type": "markdown",
   "metadata": {
    "slideshow": {
     "slide_type": "slide"
    }
   },
   "source": [
    "# Thank you!\n",
    "\n",
    "Contact information\n",
    "- Website <a href=\"https://mljar.com\" target=\"_blank\">https://mljar.com</a>\n",
    "- GitHub <a href=\"https://github.com/mljar\" target=\"_blank\">https://github.com/mljar</a>\n",
    "- Email contact@mljar.com"
   ]
  }
 ],
 "metadata": {
  "celltoolbar": "Slideshow",
  "kernelspec": {
   "display_name": "forumenv",
   "language": "python",
   "name": "forumenv"
  },
  "language_info": {
   "codemirror_mode": {
    "name": "ipython",
    "version": 3
   },
   "file_extension": ".py",
   "mimetype": "text/x-python",
   "name": "python",
   "nbconvert_exporter": "python",
   "pygments_lexer": "ipython3",
   "version": "3.8.10"
  }
 },
 "nbformat": 4,
 "nbformat_minor": 2
}
